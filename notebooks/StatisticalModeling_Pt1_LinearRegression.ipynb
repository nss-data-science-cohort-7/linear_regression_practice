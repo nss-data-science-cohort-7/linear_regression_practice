{
 "cells": [
  {
   "cell_type": "markdown",
   "id": "d88975c0",
   "metadata": {},
   "source": [
    "## Statistical Modeling, Part 1: Linear Regression\n",
    "\n",
    "In this exercise, you'll get a chance to practice building and analyzing linear models using the data from the UN exercise."
   ]
  },
  {
   "cell_type": "code",
   "execution_count": 1,
   "id": "49e353a7",
   "metadata": {},
   "outputs": [],
   "source": [
    "import pandas as pd\n",
    "import statsmodels.api as sm\n",
    "import statsmodels.formula.api as smf\n",
    "import numpy as np\n",
    "import matplotlib.pyplot as plt"
   ]
  },
  {
   "cell_type": "markdown",
   "id": "c86ac6da",
   "metadata": {},
   "source": [
    "You'll be working with the combined gdp and life expectancy data."
   ]
  },
  {
   "cell_type": "code",
   "execution_count": 2,
   "id": "3ec5ec3b",
   "metadata": {},
   "outputs": [],
   "source": [
    "gdp_le = pd.read_csv('../data/gdp_le.csv').dropna()"
   ]
  },
  {
   "cell_type": "code",
   "execution_count": 3,
   "id": "038b2abc",
   "metadata": {},
   "outputs": [
    {
     "data": {
      "text/html": [
       "<div>\n",
       "<style scoped>\n",
       "    .dataframe tbody tr th:only-of-type {\n",
       "        vertical-align: middle;\n",
       "    }\n",
       "\n",
       "    .dataframe tbody tr th {\n",
       "        vertical-align: top;\n",
       "    }\n",
       "\n",
       "    .dataframe thead th {\n",
       "        text-align: right;\n",
       "    }\n",
       "</style>\n",
       "<table border=\"1\" class=\"dataframe\">\n",
       "  <thead>\n",
       "    <tr style=\"text-align: right;\">\n",
       "      <th></th>\n",
       "      <th>Country</th>\n",
       "      <th>Year</th>\n",
       "      <th>GDP_Per_Capita</th>\n",
       "      <th>Continent</th>\n",
       "      <th>Life_Expectancy</th>\n",
       "    </tr>\n",
       "  </thead>\n",
       "  <tbody>\n",
       "    <tr>\n",
       "      <th>0</th>\n",
       "      <td>Afghanistan</td>\n",
       "      <td>2019</td>\n",
       "      <td>2065.036398</td>\n",
       "      <td>Asia</td>\n",
       "      <td>64.833</td>\n",
       "    </tr>\n",
       "    <tr>\n",
       "      <th>1</th>\n",
       "      <td>Afghanistan</td>\n",
       "      <td>2018</td>\n",
       "      <td>2033.779002</td>\n",
       "      <td>Asia</td>\n",
       "      <td>64.486</td>\n",
       "    </tr>\n",
       "    <tr>\n",
       "      <th>2</th>\n",
       "      <td>Afghanistan</td>\n",
       "      <td>2017</td>\n",
       "      <td>2058.383832</td>\n",
       "      <td>Asia</td>\n",
       "      <td>64.130</td>\n",
       "    </tr>\n",
       "    <tr>\n",
       "      <th>3</th>\n",
       "      <td>Afghanistan</td>\n",
       "      <td>2016</td>\n",
       "      <td>2057.062164</td>\n",
       "      <td>Asia</td>\n",
       "      <td>63.763</td>\n",
       "    </tr>\n",
       "    <tr>\n",
       "      <th>4</th>\n",
       "      <td>Afghanistan</td>\n",
       "      <td>2015</td>\n",
       "      <td>2068.265904</td>\n",
       "      <td>Asia</td>\n",
       "      <td>63.377</td>\n",
       "    </tr>\n",
       "    <tr>\n",
       "      <th>...</th>\n",
       "      <td>...</td>\n",
       "      <td>...</td>\n",
       "      <td>...</td>\n",
       "      <td>...</td>\n",
       "      <td>...</td>\n",
       "    </tr>\n",
       "    <tr>\n",
       "      <th>5109</th>\n",
       "      <td>Zimbabwe</td>\n",
       "      <td>1994</td>\n",
       "      <td>3263.934978</td>\n",
       "      <td>Africa</td>\n",
       "      <td>52.044</td>\n",
       "    </tr>\n",
       "    <tr>\n",
       "      <th>5110</th>\n",
       "      <td>Zimbabwe</td>\n",
       "      <td>1993</td>\n",
       "      <td>3033.504852</td>\n",
       "      <td>Africa</td>\n",
       "      <td>53.653</td>\n",
       "    </tr>\n",
       "    <tr>\n",
       "      <th>5111</th>\n",
       "      <td>Zimbabwe</td>\n",
       "      <td>1992</td>\n",
       "      <td>3054.889178</td>\n",
       "      <td>Africa</td>\n",
       "      <td>55.243</td>\n",
       "    </tr>\n",
       "    <tr>\n",
       "      <th>5112</th>\n",
       "      <td>Zimbabwe</td>\n",
       "      <td>1991</td>\n",
       "      <td>3426.598094</td>\n",
       "      <td>Africa</td>\n",
       "      <td>56.749</td>\n",
       "    </tr>\n",
       "    <tr>\n",
       "      <th>5113</th>\n",
       "      <td>Zimbabwe</td>\n",
       "      <td>1990</td>\n",
       "      <td>3324.348171</td>\n",
       "      <td>Africa</td>\n",
       "      <td>58.100</td>\n",
       "    </tr>\n",
       "  </tbody>\n",
       "</table>\n",
       "<p>4922 rows × 5 columns</p>\n",
       "</div>"
      ],
      "text/plain": [
       "          Country  Year  GDP_Per_Capita Continent  Life_Expectancy\n",
       "0     Afghanistan  2019     2065.036398      Asia           64.833\n",
       "1     Afghanistan  2018     2033.779002      Asia           64.486\n",
       "2     Afghanistan  2017     2058.383832      Asia           64.130\n",
       "3     Afghanistan  2016     2057.062164      Asia           63.763\n",
       "4     Afghanistan  2015     2068.265904      Asia           63.377\n",
       "...           ...   ...             ...       ...              ...\n",
       "5109     Zimbabwe  1994     3263.934978    Africa           52.044\n",
       "5110     Zimbabwe  1993     3033.504852    Africa           53.653\n",
       "5111     Zimbabwe  1992     3054.889178    Africa           55.243\n",
       "5112     Zimbabwe  1991     3426.598094    Africa           56.749\n",
       "5113     Zimbabwe  1990     3324.348171    Africa           58.100\n",
       "\n",
       "[4922 rows x 5 columns]"
      ]
     },
     "execution_count": 3,
     "metadata": {},
     "output_type": "execute_result"
    }
   ],
   "source": [
    "gdp_le"
   ]
  },
  {
   "cell_type": "markdown",
   "id": "daa6aede",
   "metadata": {},
   "source": [
    "### Part 1: Analyzing 2019"
   ]
  },
  {
   "cell_type": "markdown",
   "id": "f72320c1",
   "metadata": {},
   "source": [
    "For this part, we'll look at our dataset just for the year 2019."
   ]
  },
  {
   "cell_type": "code",
   "execution_count": 4,
   "id": "8e24363a",
   "metadata": {},
   "outputs": [],
   "source": [
    "gdp_le_2019 = gdp_le[gdp_le['Year'] == 2019].copy()"
   ]
  },
  {
   "cell_type": "markdown",
   "id": "86e4454f",
   "metadata": {},
   "source": [
    "Fit a linear regression model on the 2019 data with target variable life expenctancy and predictor variable GDP per capita."
   ]
  },
  {
   "cell_type": "code",
   "execution_count": null,
   "id": "29df7bbf",
   "metadata": {},
   "outputs": [],
   "source": [
    "lm = # Fill this in\n",
    "lm.summary()"
   ]
  },
  {
   "cell_type": "markdown",
   "id": "bf5cf0a8",
   "metadata": {},
   "source": [
    "**Question:** How can we interpret the meaning of the coefficient for GDP_Per_Capita?"
   ]
  },
  {
   "cell_type": "markdown",
   "id": "60bc3252",
   "metadata": {},
   "source": [
    "It might make it easier to interpret if we changed the units on GDP_Per_Capita since a one unit change in GDP per capita does not have a very large impact at all on GDP_Per_Capita.\n",
    "\n",
    "Fit a new model, but this time use thousands of dollars of GDP_Per_Capita as your predictor variable.\n",
    "\n",
    "**Hint:** Two ways that you can accomplish this are by creating a new column in your DataFrame or by making use of `I()` in your formula."
   ]
  },
  {
   "cell_type": "code",
   "execution_count": null,
   "id": "29ff1f71",
   "metadata": {},
   "outputs": [],
   "source": [
    "lm = # Fill This In\n",
    "lm.summary()"
   ]
  },
  {
   "cell_type": "markdown",
   "id": "d488a5d9",
   "metadata": {},
   "source": [
    "**Questions:** How do we interpret the meaning of the coefficients for the new model?"
   ]
  },
  {
   "cell_type": "markdown",
   "id": "86296c00",
   "metadata": {},
   "source": [
    "Now, let's plot the fitted values against the original data."
   ]
  },
  {
   "cell_type": "code",
   "execution_count": null,
   "id": "a4c2b5f6",
   "metadata": {},
   "outputs": [],
   "source": [
    "ax = gdp_le_2019.plot(x = 'GDP_Per_Capita', y = 'Life_Expectancy', kind = 'scatter')\n",
    "\n",
    "fit_df = pd.DataFrame({\n",
    "    'GDP_Per_Capita': np.linspace(\n",
    "        start = gdp_le_2019['GDP_Per_Capita'].min(),\n",
    "        stop = gdp_le_2019['GDP_Per_Capita'].max(), \n",
    "        num = 150)})\n",
    "fit_df['fitted'] = lm.predict(fit_df)\n",
    "\n",
    "fit_df.plot(x = 'GDP_Per_Capita', y = 'fitted', ax = ax, color = 'black', label = 'fitted');"
   ]
  },
  {
   "cell_type": "markdown",
   "id": "65cd9da5",
   "metadata": {},
   "source": [
    "**Question:** What potential problems do you see with this fit?"
   ]
  },
  {
   "cell_type": "markdown",
   "id": "0b8636b6",
   "metadata": {},
   "source": [
    "You saw from the guided exploration portion of the project that using the logarithm of the GDP resulted in a larger correlation value. \n",
    "\n",
    "Fit a new model using the log of GDP Per Capita as a predictor variable.\n",
    "\n",
    "**Hint:** You can do this by using `'Life_Expectancy ~ np.log(GDP_Per_Capita)'` as your formula."
   ]
  },
  {
   "cell_type": "code",
   "execution_count": null,
   "id": "aa56f96c",
   "metadata": {},
   "outputs": [],
   "source": [
    "lm = # Fill this in\n",
    "lm.summary()"
   ]
  },
  {
   "cell_type": "markdown",
   "id": "d01799ae",
   "metadata": {},
   "source": [
    "**Difficult Question:** How do we interpret the meaning of the coefficient for log(GDP_Per_Capita)?"
   ]
  },
  {
   "cell_type": "markdown",
   "id": "eef328f9",
   "metadata": {},
   "source": [
    "Let's look at the plot of our fitted vales agains the data."
   ]
  },
  {
   "cell_type": "code",
   "execution_count": null,
   "id": "ee1b8902",
   "metadata": {},
   "outputs": [],
   "source": [
    "ax = gdp_le_2019.plot(x = 'GDP_Per_Capita', y = 'Life_Expectancy', kind = 'scatter')\n",
    "\n",
    "fit_df = pd.DataFrame({\n",
    "    'GDP_Per_Capita': np.linspace(\n",
    "        start = gdp_le_2019['GDP_Per_Capita'].min(),\n",
    "        stop = gdp_le_2019['GDP_Per_Capita'].max(), \n",
    "        num = 150)})\n",
    "fit_df['fitted'] = lm.predict(fit_df)\n",
    "\n",
    "fit_df.plot(x = 'GDP_Per_Capita', y = 'fitted', ax = ax, color = 'black', label = 'fitted');"
   ]
  },
  {
   "cell_type": "markdown",
   "id": "0dfcaf94",
   "metadata": {},
   "source": [
    "We can also look on the log scale."
   ]
  },
  {
   "cell_type": "code",
   "execution_count": null,
   "id": "d94fb83b",
   "metadata": {},
   "outputs": [],
   "source": [
    "gdp_le_2019['log_gdp'] = np.log(gdp_le_2019['GDP_Per_Capita'])\n",
    "\n",
    "ax = gdp_le_2019.plot(x = 'log_gdp', y = 'Life_Expectancy', kind = 'scatter')\n",
    "\n",
    "fit_df = pd.DataFrame({\n",
    "    'GDP_Per_Capita': np.linspace(\n",
    "        start = gdp_le_2019['GDP_Per_Capita'].min(),\n",
    "        stop = gdp_le_2019['GDP_Per_Capita'].max(), \n",
    "        num = 150)})\n",
    "fit_df['log_gdp'] = np.log(fit_df['GDP_Per_Capita'])\n",
    "fit_df['fitted'] = lm.predict(fit_df)\n",
    "\n",
    "fit_df.plot(x = 'log_gdp', y = 'fitted', ax = ax, color = 'black', label = 'fitted');"
   ]
  },
  {
   "cell_type": "markdown",
   "id": "a5aa596b",
   "metadata": {},
   "source": [
    "## Part 2: Life Expectancy Over Time\n",
    "\n",
    "Now, let's explore the relationship between health and wealth over time.\n",
    "\n",
    "First, using all data in gdp_le, fit a model for life expectancy based on number of years since 1990. (Hint: make use of I()) to help with this."
   ]
  },
  {
   "cell_type": "code",
   "execution_count": null,
   "id": "07fc8fe4",
   "metadata": {},
   "outputs": [],
   "source": [
    "lm = # Fill this in\n",
    "lm.summary()"
   ]
  },
  {
   "cell_type": "markdown",
   "id": "1b2e1084",
   "metadata": {},
   "source": [
    "**Question:** How can you interpret the meaning of both of the coefficients of this model?"
   ]
  },
  {
   "cell_type": "markdown",
   "id": "42ae1ce2",
   "metadata": {},
   "source": [
    "We can compare the fit model to the data."
   ]
  },
  {
   "cell_type": "code",
   "execution_count": null,
   "id": "767508ba",
   "metadata": {},
   "outputs": [],
   "source": [
    "ax = gdp_le.plot(kind = 'scatter', x = 'Year', y = 'Life_Expectancy', alpha = 0.5)\n",
    "\n",
    "fit_df = pd.DataFrame({\n",
    "    'Year': np.linspace(\n",
    "        start = gdp_le['Year'].min(),\n",
    "        stop = gdp_le['Year'].max(), \n",
    "        num = 150)})\n",
    "fit_df['fitted'] = lm.predict(fit_df)\n",
    "\n",
    "fit_df.plot(x = 'Year', y = 'fitted', ax = ax, color = 'black', label = 'fitted');"
   ]
  },
  {
   "cell_type": "markdown",
   "id": "a0c61183",
   "metadata": {},
   "source": [
    "Perhaps we could do better if we include continent in our model. Fit a model which includes a term for Continent. (Don't include any interactions yet)."
   ]
  },
  {
   "cell_type": "code",
   "execution_count": null,
   "id": "c2ff1443",
   "metadata": {},
   "outputs": [],
   "source": [
    "lm_continent = # Fill this in\n",
    "lm_continent.summary()"
   ]
  },
  {
   "cell_type": "markdown",
   "id": "14a5bcb9",
   "metadata": {},
   "source": [
    "**Questions:**\n",
    "\n",
    "1. Is including a term for continent statistically significant?\n",
    "2. How do you interpret the meaning of the model coefficients?\n",
    "3. What does the model say about European vs. Asian vs. African countries with respect to life expectancy in 1990 and the increase over time of life expectancy?"
   ]
  },
  {
   "cell_type": "code",
   "execution_count": null,
   "id": "9777cf4f",
   "metadata": {},
   "outputs": [],
   "source": [
    "# Fill in the code to check if the term for continent is significant"
   ]
  },
  {
   "cell_type": "markdown",
   "id": "3049e2d9",
   "metadata": {},
   "source": [
    "Adjust the `continent` variable below to see the fitted vs. actual values by continent. What do you notice?"
   ]
  },
  {
   "cell_type": "code",
   "execution_count": null,
   "id": "8ef09094",
   "metadata": {},
   "outputs": [],
   "source": [
    "continent = 'Asia'\n",
    "\n",
    "sub_df = gdp_le[gdp_le['Continent'] == continent]\n",
    "\n",
    "ax = sub_df.plot(x = 'Year', \n",
    "                 y = 'Life_Expectancy',\n",
    "                 kind = 'scatter',\n",
    "                 title = continent,\n",
    "                 alpha = 0.6)\n",
    "\n",
    "fit_df = pd.DataFrame({\n",
    "    'Year': np.linspace(start = sub_df['Year'].min(),\n",
    "                                  stop = sub_df['Year'].max()\n",
    "                                 ),\n",
    "    'Continent': continent\n",
    "})\n",
    "fit_df['fitted'] = lm_continent.predict(fit_df)\n",
    "fit_df.plot(x = 'Year', y = 'fitted', ax = ax, color = 'black', label = 'fitted');"
   ]
  },
  {
   "cell_type": "markdown",
   "id": "46f73b95",
   "metadata": {},
   "source": [
    "Now, add an interaction term between Continent and Year to your model."
   ]
  },
  {
   "cell_type": "code",
   "execution_count": null,
   "id": "d9db0bac",
   "metadata": {},
   "outputs": [],
   "source": [
    "lm_continent_int = # Fill This in\n",
    "lm_continent_int.summary()"
   ]
  },
  {
   "cell_type": "markdown",
   "id": "2eae5023",
   "metadata": {},
   "source": [
    "**Questions:** \n",
    "1. Are the interaction terms statistically significant?\n",
    "2. What does the model say about European vs. Asian vs. African countries with respect to life expectancy in 1990 and the increase over time of life expectancy?"
   ]
  },
  {
   "cell_type": "code",
   "execution_count": null,
   "id": "bc5fc90d",
   "metadata": {},
   "outputs": [],
   "source": [
    "# Fill in the code to check if the interaction terms are significant"
   ]
  },
  {
   "cell_type": "markdown",
   "id": "944e5d02",
   "metadata": {},
   "source": [
    "You can uses the code in the next cell to explore the output from the new model."
   ]
  },
  {
   "cell_type": "code",
   "execution_count": null,
   "id": "3edeae5d",
   "metadata": {},
   "outputs": [],
   "source": [
    "continent = 'Asia'\n",
    "\n",
    "sub_df = gdp_le[gdp_le['Continent'] == continent]\n",
    "\n",
    "ax = sub_df.plot(x = 'Year', \n",
    "                 y = 'Life_Expectancy',\n",
    "                 kind = 'scatter',\n",
    "                 title = continent,\n",
    "                 alpha = 0.6)\n",
    "\n",
    "fit_df = pd.DataFrame({\n",
    "    'Year': np.linspace(start = sub_df['Year'].min(),\n",
    "                        stop = sub_df['Year'].max()\n",
    "                       ),\n",
    "    'Continent': continent\n",
    "})\n",
    "fit_df['fitted_no_interactions'] = lm_continent.predict(fit_df)\n",
    "fit_df['fitted_interactions'] = lm_continent_int.predict(fit_df)\n",
    "fit_df.plot(x = 'Year', y = 'fitted_no_interactions', ax = ax, color = 'black', label = 'fitted_no_interactions')\n",
    "fit_df.plot(x = 'Year', y = 'fitted_interactions', ax = ax, color = 'blue', label = 'fitted_interactions');"
   ]
  },
  {
   "cell_type": "markdown",
   "id": "a7e1f96d",
   "metadata": {},
   "source": [
    "## Part 3: The Effect of Wealth on Health\n",
    "\n",
    "Now, let's try and uncover the effect of wealth on health, after accounting for the effect of Continent and year.\n",
    "\n",
    "Fit a model that builds off of your previous model but includes a term for the log of gdp per capita."
   ]
  },
  {
   "cell_type": "code",
   "execution_count": null,
   "id": "db912a1d",
   "metadata": {},
   "outputs": [],
   "source": [
    "lm_gdp = # Fill this in\n",
    "lm_gdp.summary()"
   ]
  },
  {
   "cell_type": "markdown",
   "id": "c8230663",
   "metadata": {},
   "source": [
    "**Question:** How do we interpret the coefficient of log(gdp)?"
   ]
  },
  {
   "cell_type": "code",
   "execution_count": null,
   "id": "6da0856e",
   "metadata": {},
   "outputs": [],
   "source": [
    "gdp_le['log_gdp'] = np.log(gdp_le['GDP_Per_Capita'])"
   ]
  },
  {
   "cell_type": "markdown",
   "id": "e68b4db9",
   "metadata": {},
   "source": [
    "The resulting model looks at gdp vs. life expectancy by continent. You can explore how the fitted values compare to the actual values by adjusting the values for year and continent below."
   ]
  },
  {
   "cell_type": "code",
   "execution_count": null,
   "id": "ef2ffc5b",
   "metadata": {},
   "outputs": [],
   "source": [
    "year = 2019\n",
    "continent = 'Asia'\n",
    "\n",
    "sub_df = gdp_le[(gdp_le['Year'] == year) & (gdp_le['Continent'] == continent)]\n",
    "\n",
    "ax = sub_df.plot(x = 'log_gdp', y = 'Life_Expectancy', kind = 'scatter', title = f'{continent}, {year}')\n",
    "\n",
    "fit_df = pd.DataFrame({\n",
    "    'Year': year,\n",
    "    'Continent': continent,\n",
    "    'GDP_Per_Capita': np.linspace(start = sub_df['GDP_Per_Capita'].min(),\n",
    "                                  stop = sub_df['GDP_Per_Capita'].max()\n",
    "                                 )\n",
    "})\n",
    "fit_df['fitted'] = lm_gdp.predict(fit_df)\n",
    "fit_df['log_gdp'] = np.log(fit_df['GDP_Per_Capita'])\n",
    "fit_df.plot(x = 'log_gdp', y = 'fitted', ax = ax, color = 'black', label = 'fitted');"
   ]
  },
  {
   "cell_type": "markdown",
   "id": "0a10a80d",
   "metadata": {},
   "source": [
    "Perhaps we could estimate different effects of gdp per continent. Add an interaction term between continent and gdp."
   ]
  },
  {
   "cell_type": "code",
   "execution_count": null,
   "id": "f0b3b403",
   "metadata": {},
   "outputs": [],
   "source": [
    "lm_gdp_cont = #Your Code Here\n",
    "lm_gdp_cont.summary()"
   ]
  },
  {
   "cell_type": "markdown",
   "id": "a4b44d0d",
   "metadata": {},
   "source": [
    "**Questions:** \n",
    "1. Are the new interaction terms statistically significant?\n",
    "2. What does the model say about European vs. Asian vs. African countries with respect to the effect of gdp on life expectancy?"
   ]
  },
  {
   "cell_type": "code",
   "execution_count": null,
   "id": "828f963f",
   "metadata": {},
   "outputs": [],
   "source": [
    "# Fill in the code to check if the interaction term is significant"
   ]
  },
  {
   "cell_type": "code",
   "execution_count": null,
   "id": "22fa774d",
   "metadata": {},
   "outputs": [],
   "source": [
    "year = 2007\n",
    "continent = 'Africa'\n",
    "\n",
    "sub_df = gdp_le[(gdp_le['Year'] == year) & (gdp_le['Continent'] == continent)]\n",
    "\n",
    "ax = sub_df.plot(x = 'log_gdp', y = 'Life_Expectancy', kind = 'scatter', title = continent)\n",
    "\n",
    "fit_df = pd.DataFrame({\n",
    "    'Year': year,\n",
    "    'Continent': continent,\n",
    "    'GDP_Per_Capita': np.linspace(start = sub_df['GDP_Per_Capita'].min(),\n",
    "                                  stop = sub_df['GDP_Per_Capita'].max()\n",
    "                                 )\n",
    "})\n",
    "fit_df['fitted_no_interactions'] = lm_gdp.predict(fit_df)\n",
    "fit_df['fitted_interactions'] = lm_gdp_cont.predict(fit_df)\n",
    "fit_df['log_gdp'] = np.log(fit_df['GDP_Per_Capita'])\n",
    "fit_df.plot(x = 'log_gdp', y = 'fitted_no_interactions', ax = ax, color = 'black', label = 'fitted_no_interactions');\n",
    "fit_df.plot(x = 'log_gdp', y = 'fitted_interactions', ax = ax, color = 'blue', label = 'fitted_interactions');"
   ]
  },
  {
   "cell_type": "markdown",
   "id": "2e4c29ea",
   "metadata": {},
   "source": [
    "Finally, add an interaction term between log(gdp) and year."
   ]
  },
  {
   "cell_type": "code",
   "execution_count": null,
   "id": "60d7f438",
   "metadata": {},
   "outputs": [],
   "source": [
    "lm_gdp_cont_year = smf.ols('Life_Expectancy ~ I(Year - 1990) + Continent + Continent:(I(Year - 1990) + np.log(GDP_Per_Capita)) + np.log(GDP_Per_Capita) + np.log(GDP_Per_Capita):I(Year - 1990)', data = gdp_le).fit()\n",
    "lm_gdp_cont_year.summary()"
   ]
  },
  {
   "cell_type": "markdown",
   "id": "943e6b6e",
   "metadata": {},
   "source": [
    "**Question:** How do we interpret the new interaction term?"
   ]
  },
  {
   "cell_type": "code",
   "execution_count": null,
   "id": "cb6af109",
   "metadata": {},
   "outputs": [],
   "source": [
    "year = 2015\n",
    "continent = 'Asia'\n",
    "\n",
    "sub_df = gdp_le[(gdp_le['Year'] == year) & (gdp_le['Continent'] == continent)]\n",
    "\n",
    "ax = sub_df.plot(x = 'log_gdp', y = 'Life_Expectancy', kind = 'scatter', title = continent)\n",
    "\n",
    "fit_df = pd.DataFrame({\n",
    "    'Year': year,\n",
    "    'Continent': continent,\n",
    "    'GDP_Per_Capita': np.linspace(start = sub_df['GDP_Per_Capita'].min(),\n",
    "                                  stop = sub_df['GDP_Per_Capita'].max()\n",
    "                                 )\n",
    "})\n",
    "fit_df['year_interaction'] = lm_gdp_cont_year.predict(fit_df)\n",
    "fit_df['no_year_interaction'] = lm_gdp_cont.predict(fit_df)\n",
    "fit_df['log_gdp'] = np.log(fit_df['GDP_Per_Capita'])\n",
    "fit_df.plot(x = 'log_gdp', y = 'no_year_interaction', ax = ax, color = 'black', label = 'no_year_interaction');\n",
    "fit_df.plot(x = 'log_gdp', y = 'year_interaction', ax = ax, color = 'blue', label = 'year_interaction');"
   ]
  }
 ],
 "metadata": {
  "kernelspec": {
   "display_name": "Python 3 (ipykernel)",
   "language": "python",
   "name": "python3"
  },
  "language_info": {
   "codemirror_mode": {
    "name": "ipython",
    "version": 3
   },
   "file_extension": ".py",
   "mimetype": "text/x-python",
   "name": "python",
   "nbconvert_exporter": "python",
   "pygments_lexer": "ipython3",
   "version": "3.8.13"
  }
 },
 "nbformat": 4,
 "nbformat_minor": 5
}
